{
 "cells": [
  {
   "cell_type": "code",
   "execution_count": 4,
   "id": "bb0e0dea",
   "metadata": {},
   "outputs": [
    {
     "name": "stdout",
     "output_type": "stream",
     "text": [
      "JSON data saved to data.json\n"
     ]
    }
   ],
   "source": [
    "import pandas as pd\n",
    "import json\n",
    "\n",
    "# 假设您已经加载了DataFrame 'data'\n",
    "data = pd.read_csv('data.csv')\n",
    "\n",
    "# 转换函数\n",
    "def convert_row_to_json(row):\n",
    "    question_text = row['Question']\n",
    "    answers = row['Answer(s)'].split(';')\n",
    "    sport = row['Sport']\n",
    "    level = row['Difficulty']\n",
    "    hop = row['Hop']\n",
    "    \n",
    "    json_structure = {\n",
    "        \"level\": level,\n",
    "        \"sport\": sport,\n",
    "        \"hop\": hop\n",
    "    }\n",
    "    \n",
    "    if hop == \"single\":\n",
    "        json_structure[\"question\"] = question_text\n",
    "        json_structure[\"answer\"] = answers[0]\n",
    "    elif hop == \"multi\":\n",
    "        questions_combined = ' '.join(question_text.split('\\n'))\n",
    "        answer_dict = {\n",
    "            \"main\": answers[0],\n",
    "            **{f\"sub-question{i}\": ans for i, ans in enumerate(answers[1:], start=1)}\n",
    "        }\n",
    "        json_structure[\"questions\"] = questions_combined\n",
    "        json_structure[\"answers\"] = answer_dict\n",
    "    \n",
    "    return json_structure\n",
    "\n",
    "# 应用转换函数\n",
    "json_data_list = data.apply(convert_row_to_json, axis=1).tolist()\n",
    "\n",
    "# 保存JSON数据到文件\n",
    "output_file_path = 'data.json'\n",
    "with open(output_file_path, 'w', encoding='utf-8') as file:\n",
    "    json.dump(json_data_list, file, ensure_ascii=False, indent=2)\n",
    "\n",
    "print(f\"JSON data saved to {output_file_path}\")"
   ]
  },
  {
   "cell_type": "code",
   "execution_count": 8,
   "id": "bd951093",
   "metadata": {},
   "outputs": [
    {
     "name": "stdout",
     "output_type": "stream",
     "text": [
      "Converted test.csv to JSON.\n",
      "Converted data.csv to JSON.\n",
      "Converted dev.csv to JSON.\n"
     ]
    }
   ],
   "source": [
    "import pandas as pd\n",
    "import json\n",
    "import os\n",
    "\n",
    "def convert_csv_to_json(csv_file_path, json_file_path):\n",
    "    # Load the CSV file\n",
    "    data = pd.read_csv(csv_file_path)\n",
    "    \n",
    "    # Convert DataFrame to a list of dictionaries (one per row)\n",
    "    data_list = data.to_dict(orient='records')\n",
    "    \n",
    "    # Save the list as a JSON file\n",
    "    with open(json_file_path, 'w', encoding='utf-8') as json_file:\n",
    "        json.dump(data_list, json_file, indent=4)\n",
    "\n",
    "def process_folder(folder_path):\n",
    "    # Iterate over all files in the folder\n",
    "    for filename in os.listdir(folder_path):\n",
    "        if filename.endswith('.csv'):\n",
    "            # Create paths for the CSV file and the resulting JSON file\n",
    "            csv_file_path = os.path.join(folder_path, filename)\n",
    "            json_file_path = os.path.join(folder_path, filename[:-4] + '.json')\n",
    "            \n",
    "            # Convert the CSV file to JSON format\n",
    "            convert_csv_to_json(csv_file_path, json_file_path)\n",
    "            print(f\"Converted {filename} to JSON.\")\n",
    "\n",
    "# Replace 'path_to_your_folder' with the path to the folder containing your CSV files\n",
    "folder_path = '../Level1/'\n",
    "process_folder(folder_path)"
   ]
  },
  {
   "cell_type": "code",
   "execution_count": null,
   "id": "18425099",
   "metadata": {},
   "outputs": [],
   "source": []
  }
 ],
 "metadata": {
  "kernelspec": {
   "display_name": "Python 3 (ipykernel)",
   "language": "python",
   "name": "python3"
  },
  "language_info": {
   "codemirror_mode": {
    "name": "ipython",
    "version": 3
   },
   "file_extension": ".py",
   "mimetype": "text/x-python",
   "name": "python",
   "nbconvert_exporter": "python",
   "pygments_lexer": "ipython3",
   "version": "3.9.7"
  }
 },
 "nbformat": 4,
 "nbformat_minor": 5
}
